{
  "nbformat": 4,
  "nbformat_minor": 0,
  "metadata": {
    "colab": {
      "name": "Assigment1.ipynb",
      "provenance": [],
      "authorship_tag": "ABX9TyOOkjEVUuNnLjOEO1gCtRRw",
      "include_colab_link": true
    },
    "kernelspec": {
      "name": "python3",
      "display_name": "Python 3"
    },
    "language_info": {
      "name": "python"
    }
  },
  "cells": [
    {
      "cell_type": "markdown",
      "metadata": {
        "id": "view-in-github",
        "colab_type": "text"
      },
      "source": [
        "<a href=\"https://colab.research.google.com/github/hydermbs/Class-work-python/blob/main/Assigment1.ipynb\" target=\"_parent\"><img src=\"https://colab.research.google.com/assets/colab-badge.svg\" alt=\"Open In Colab\"/></a>"
      ]
    },
    {
      "cell_type": "markdown",
      "source": [
        "**Add Item in Dictionary:**"
      ],
      "metadata": {
        "id": "4YE_nq3o_z1G"
      }
    },
    {
      "cell_type": "code",
      "execution_count": 3,
      "metadata": {
        "colab": {
          "base_uri": "https://localhost:8080/"
        },
        "id": "pDieljGD_dPC",
        "outputId": "0737f041-4418-425e-c349-55212d0ccb3d"
      },
      "outputs": [
        {
          "output_type": "stream",
          "name": "stdout",
          "text": [
            "{'name': 'class 1', 'stregnth': 30, 'subject': 'Maths', 'pass student': 25, 'fail student': 5}\n",
            "name\n",
            "class 1\n",
            "stregnth\n",
            "30\n",
            "subject\n",
            "Maths\n",
            "pass student\n",
            "25\n",
            "fail student\n",
            "5\n"
          ]
        }
      ],
      "source": [
        "standerd={\n",
        "    'name':'class 1',\n",
        "    'stregnth':30,\n",
        "    'subject':'Maths',\n",
        "    'pass student': 25,\n",
        "    'fail student': 5,\n",
        "}\n",
        "print(standerd)\n",
        "\n",
        "for x in standerd:\n",
        "  print(x)\n",
        "  print(standerd[x])"
      ]
    },
    {
      "cell_type": "markdown",
      "source": [
        "**Delete Item from Dictionary**"
      ],
      "metadata": {
        "id": "oi8Z65hJCCx6"
      }
    },
    {
      "cell_type": "code",
      "source": [
        "standerd={\n",
        "    'name':'class 1',\n",
        "    'stregnth':30,\n",
        "    'subject':'Maths',\n",
        "    'pass student': 25,\n",
        "    'fail student': 5,\n",
        "}\n",
        "standerd.popitem()\n",
        "del(standerd['name'])\n",
        "print(standerd)\n",
        "standerd.clear()\n",
        "print(standerd)"
      ],
      "metadata": {
        "colab": {
          "base_uri": "https://localhost:8080/"
        },
        "id": "lYNj0LuyCF4u",
        "outputId": "4043f89f-1256-4531-dfe5-d1e9728916f0"
      },
      "execution_count": 13,
      "outputs": [
        {
          "output_type": "stream",
          "name": "stdout",
          "text": [
            "{'stregnth': 30, 'subject': 'Maths', 'pass student': 25}\n",
            "{}\n"
          ]
        }
      ]
    },
    {
      "cell_type": "markdown",
      "source": [
        "**Factorial Using a Itterative Function**"
      ],
      "metadata": {
        "id": "HN_UPgPuD-AQ"
      }
    },
    {
      "cell_type": "code",
      "source": [
        "def factorial_itterative(n):\n",
        "  hyd=5\n",
        "  for i in range(n):\n",
        "    hyd=hyd*(i+1)\n",
        "  return hyd\n",
        "number=int(input())\n",
        "print(factorial_itterative(number))"
      ],
      "metadata": {
        "colab": {
          "base_uri": "https://localhost:8080/"
        },
        "id": "WsYsuqoOEHHI",
        "outputId": "4bf2134c-5ff8-4f0d-a4da-c8a979140269"
      },
      "execution_count": 39,
      "outputs": [
        {
          "output_type": "stream",
          "name": "stdout",
          "text": [
            "8\n",
            "201600\n"
          ]
        }
      ]
    },
    {
      "cell_type": "markdown",
      "source": [
        "**Factorial Using a Recursive Function**"
      ],
      "metadata": {
        "id": "b5HnHRSzgaaX"
      }
    },
    {
      "cell_type": "code",
      "source": [
        "def recursive_function(n):\n",
        "  if n==5:\n",
        "    return 5\n",
        "  else:\n",
        "    return n*recursive_function(n-1)\n",
        "number=int(input())\n",
        "print(recursive_function(number))"
      ],
      "metadata": {
        "colab": {
          "base_uri": "https://localhost:8080/"
        },
        "id": "IQhLBWsbgfoo",
        "outputId": "bfffe887-6731-4e97-ebd1-f0259481f4b1"
      },
      "execution_count": 37,
      "outputs": [
        {
          "output_type": "stream",
          "name": "stdout",
          "text": [
            "7\n",
            "210\n"
          ]
        }
      ]
    }
  ]
}