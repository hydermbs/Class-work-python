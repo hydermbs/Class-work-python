{
  "nbformat": 4,
  "nbformat_minor": 0,
  "metadata": {
    "colab": {
      "name": "Tuple Exercise.ipynb",
      "provenance": [],
      "authorship_tag": "ABX9TyM5nmiEe165yTg/dJWDNOo4",
      "include_colab_link": true
    },
    "kernelspec": {
      "name": "python3",
      "display_name": "Python 3"
    },
    "language_info": {
      "name": "python"
    }
  },
  "cells": [
    {
      "cell_type": "markdown",
      "metadata": {
        "id": "view-in-github",
        "colab_type": "text"
      },
      "source": [
        "<a href=\"https://colab.research.google.com/github/hydermbs/Class-work-python/blob/main/Tuple_Exercise.ipynb\" target=\"_parent\"><img src=\"https://colab.research.google.com/assets/colab-badge.svg\" alt=\"Open In Colab\"/></a>"
      ]
    },
    {
      "cell_type": "markdown",
      "source": [
        "**Exercise 1: Reverse The Tuple**"
      ],
      "metadata": {
        "id": "GzM3F1D4GIz-"
      }
    },
    {
      "cell_type": "code",
      "source": [
        "tuple1 = (10, 20, 30, 40, 50)\n",
        "tuple1= tuple1[::-1]\n",
        "print(tuple1)"
      ],
      "metadata": {
        "colab": {
          "base_uri": "https://localhost:8080/"
        },
        "id": "8ZhxAkWjGaSX",
        "outputId": "78955e20-de5e-47f0-e615-7faa0a50a421"
      },
      "execution_count": 2,
      "outputs": [
        {
          "output_type": "stream",
          "name": "stdout",
          "text": [
            "(50, 40, 30, 20, 10)\n"
          ]
        }
      ]
    },
    {
      "cell_type": "markdown",
      "source": [
        "**Exercise 2: Access value 20 from the tuple**\n"
      ],
      "metadata": {
        "id": "JOPmaAUjG2Ja"
      }
    },
    {
      "cell_type": "code",
      "source": [
        "tuple1 = (\"Orange\", [10, 20, 30], (5, 15, 25))\n",
        "tuple1[1][1]"
      ],
      "metadata": {
        "colab": {
          "base_uri": "https://localhost:8080/"
        },
        "id": "7N1uQRcOG3rI",
        "outputId": "22bd40c2-3b05-462b-9556-c325f4edfae0"
      },
      "execution_count": 5,
      "outputs": [
        {
          "output_type": "execute_result",
          "data": {
            "text/plain": [
              "20"
            ]
          },
          "metadata": {},
          "execution_count": 5
        }
      ]
    },
    {
      "cell_type": "markdown",
      "source": [
        "**Exercise 3: Create a tuple with single item 50**\n"
      ],
      "metadata": {
        "id": "rsmg-Q5SHLUy"
      }
    },
    {
      "cell_type": "code",
      "source": [
        "tuple1= (50,)\n",
        "print(tuple1)"
      ],
      "metadata": {
        "colab": {
          "base_uri": "https://localhost:8080/"
        },
        "id": "q_A46HIUHPhr",
        "outputId": "53153e62-2bbb-4a59-ea5c-4a20f9fd750b"
      },
      "execution_count": 8,
      "outputs": [
        {
          "output_type": "stream",
          "name": "stdout",
          "text": [
            "(50,)\n"
          ]
        }
      ]
    },
    {
      "cell_type": "markdown",
      "source": [
        "**Exercise 4: Unpack the tuple into 4 variables**\n"
      ],
      "metadata": {
        "id": "7M4xvJjJHgXB"
      }
    },
    {
      "cell_type": "code",
      "source": [
        "tuple1 = (10, 20, 30, 40)\n",
        "a,b,c,d = tuple1\n",
        "print(a)\n",
        "print(b)\n",
        "print(c)\n",
        "print(d)"
      ],
      "metadata": {
        "colab": {
          "base_uri": "https://localhost:8080/"
        },
        "id": "SQZkIAizHiG7",
        "outputId": "dd0f5ee1-26e8-45e1-c4fc-024197fec206"
      },
      "execution_count": 9,
      "outputs": [
        {
          "output_type": "stream",
          "name": "stdout",
          "text": [
            "10\n",
            "20\n",
            "30\n",
            "40\n"
          ]
        }
      ]
    },
    {
      "cell_type": "markdown",
      "source": [
        "**Exercise 5: Swap two tuples in Python**\n",
        "\n",
        "Given:\n",
        "\n",
        "tuple1 = (11, 22)\n",
        "\n",
        "tuple2 = (99, 88)"
      ],
      "metadata": {
        "id": "aevLPA3QH2Rw"
      }
    },
    {
      "cell_type": "code",
      "source": [
        "tuple1 = (11, 22)\n",
        "\n",
        "tuple2 = (99, 88)\n",
        "tuple1,tuple2 = tuple2, tuple1\n",
        "print(tuple1)\n",
        "print(tuple2)"
      ],
      "metadata": {
        "colab": {
          "base_uri": "https://localhost:8080/"
        },
        "id": "7iWTVS6vH7I5",
        "outputId": "85c62972-e6b2-40b7-9718-49f8c2397fef"
      },
      "execution_count": 10,
      "outputs": [
        {
          "output_type": "stream",
          "name": "stdout",
          "text": [
            "(99, 88)\n",
            "(11, 22)\n"
          ]
        }
      ]
    },
    {
      "cell_type": "markdown",
      "source": [
        "**Exercise 6: Copy specific elements from one tuple to a new tuple**\n",
        "\n",
        "Write a program to copy elements 44 and 55 from the following tuple into a new tuple.\n",
        "\n",
        "Given:\n",
        "\n",
        "tuple1 = (11, 22, 33, 44, 55, 66)\n"
      ],
      "metadata": {
        "id": "s6-Xz8E8ILiE"
      }
    },
    {
      "cell_type": "code",
      "source": [
        "tuple1 = (11, 22, 33, 44, 55, 66)\n",
        "tuple2 = tuple1[3:5]\n",
        "print(tuple2)"
      ],
      "metadata": {
        "colab": {
          "base_uri": "https://localhost:8080/"
        },
        "id": "Gl2291gFIP6A",
        "outputId": "e4afd2e7-7953-4b04-e7f3-c40c0aa612e4"
      },
      "execution_count": 14,
      "outputs": [
        {
          "output_type": "stream",
          "name": "stdout",
          "text": [
            "(44, 55)\n"
          ]
        }
      ]
    },
    {
      "cell_type": "markdown",
      "source": [
        "**Exercise 7: Modify the tuple**\n",
        "\n",
        "Given is a nested tuple. Write a program to modify the first item (22) of a list inside a following tuple to 222\n",
        "\n",
        "Given:\n",
        "\n",
        "tuple1 = (11, [22, 33], 44, 55)"
      ],
      "metadata": {
        "id": "5c_SNxpiIn9l"
      }
    },
    {
      "cell_type": "code",
      "source": [
        "tuple1 = (11, [22, 33], 44, 55)\n",
        "tuple1[1][0]=222\n",
        "print(tuple1)"
      ],
      "metadata": {
        "colab": {
          "base_uri": "https://localhost:8080/"
        },
        "id": "EtHdaHEbIuRJ",
        "outputId": "e3e03a62-7c41-4de8-c746-62232459ff97"
      },
      "execution_count": 16,
      "outputs": [
        {
          "output_type": "stream",
          "name": "stdout",
          "text": [
            "(11, [222, 33], 44, 55)\n"
          ]
        }
      ]
    },
    {
      "cell_type": "markdown",
      "source": [
        "**Exercise 8: Sort a tuple of tuples by 2nd item**\n",
        "\n",
        "Given:\n",
        "\n",
        "tuple1 = (('a', 23),('b', 37),('c', 11), ('d',29))"
      ],
      "metadata": {
        "id": "6jeDMWCmJEEI"
      }
    },
    {
      "cell_type": "code",
      "source": [
        "tuple1 = (('a', 23), ('b', 37), ('c', 11), ('d', 29))\n",
        "tuple1 = tuple(sorted(list(tuple1), key=lambda x: x[1]))\n",
        "print(tuple1)\n"
      ],
      "metadata": {
        "colab": {
          "base_uri": "https://localhost:8080/"
        },
        "id": "rToxMsNlJO2s",
        "outputId": "c403d703-84cc-493a-ac0f-a204c9c75350"
      },
      "execution_count": 17,
      "outputs": [
        {
          "output_type": "stream",
          "name": "stdout",
          "text": [
            "(('c', 11), ('a', 23), ('d', 29), ('b', 37))\n"
          ]
        }
      ]
    },
    {
      "cell_type": "markdown",
      "source": [
        "**Exercise 9: Counts the number of occurrences of item 50 from a **\n",
        "\n",
        "\n",
        "Given:\n",
        "\n",
        "tuple1 = (50, 10, 60, 70, 50)"
      ],
      "metadata": {
        "id": "dHY-MEREJTvD"
      }
    },
    {
      "cell_type": "code",
      "source": [
        "tuple1 = (50, 10, 60, 70, 50)\n",
        "tuple1.count(50)"
      ],
      "metadata": {
        "colab": {
          "base_uri": "https://localhost:8080/"
        },
        "id": "FTDKGJpjJcQG",
        "outputId": "e62b3633-8274-49b6-c500-fe90f2e5ccfe"
      },
      "execution_count": 18,
      "outputs": [
        {
          "output_type": "execute_result",
          "data": {
            "text/plain": [
              "2"
            ]
          },
          "metadata": {},
          "execution_count": 18
        }
      ]
    },
    {
      "cell_type": "markdown",
      "source": [
        "**Exercise 10: Check if all items in the tuple are the same**\n"
      ],
      "metadata": {
        "id": "FFQ88JiCJnOS"
      }
    },
    {
      "cell_type": "code",
      "source": [
        "tuple1 = (45, 45, 45, 45)\n",
        "def check(t):\n",
        "    return all(i == t[0] for i in t)\n",
        "\n",
        "tuple1 = (45, 45, 45, 45)\n",
        "print(check(tuple1))"
      ],
      "metadata": {
        "colab": {
          "base_uri": "https://localhost:8080/"
        },
        "id": "xPNAVtu9JpZs",
        "outputId": "67299eef-026f-46cf-877e-5c00993191c1"
      },
      "execution_count": 19,
      "outputs": [
        {
          "output_type": "stream",
          "name": "stdout",
          "text": [
            "True\n"
          ]
        }
      ]
    }
  ]
}